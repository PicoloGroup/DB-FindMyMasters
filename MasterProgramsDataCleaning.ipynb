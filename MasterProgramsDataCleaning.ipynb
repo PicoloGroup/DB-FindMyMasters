{
 "cells": [
  {
   "cell_type": "code",
   "execution_count": 1,
   "id": "82c85608",
   "metadata": {},
   "outputs": [],
   "source": [
    "import pandas as pd"
   ]
  },
  {
   "cell_type": "code",
   "execution_count": 2,
   "id": "bb8118ff",
   "metadata": {},
   "outputs": [],
   "source": [
    "masters = pd.read_csv(\"data-version2/raw/master-programs/master-programs.csv\")"
   ]
  },
  {
   "cell_type": "code",
   "execution_count": 3,
   "id": "329f4566",
   "metadata": {},
   "outputs": [
    {
     "name": "stdout",
     "output_type": "stream",
     "text": [
      "<class 'pandas.core.frame.DataFrame'>\n",
      "RangeIndex: 23367 entries, 0 to 23366\n",
      "Data columns (total 13 columns):\n",
      " #   Column           Non-Null Count  Dtype  \n",
      "---  ------           --------------  -----  \n",
      " 0   field            23367 non-null  object \n",
      " 1   name             23367 non-null  object \n",
      " 2   university       23367 non-null  object \n",
      " 3   duration         17166 non-null  object \n",
      " 4   url              2197 non-null   object \n",
      " 5   language         23367 non-null  object \n",
      " 6   city             23366 non-null  object \n",
      " 7   country          23361 non-null  object \n",
      " 8   mode             23367 non-null  object \n",
      " 9   deadline         2975 non-null   object \n",
      " 10  pace             23367 non-null  object \n",
      " 11  tution_amount    13204 non-null  float64\n",
      " 12  tution_currency  13154 non-null  object \n",
      "dtypes: float64(1), object(12)\n",
      "memory usage: 2.3+ MB\n"
     ]
    }
   ],
   "source": [
    "masters.info()"
   ]
  },
  {
   "cell_type": "code",
   "execution_count": 4,
   "id": "9147f8f1",
   "metadata": {},
   "outputs": [
    {
     "data": {
      "text/html": [
       "<div>\n",
       "<style scoped>\n",
       "    .dataframe tbody tr th:only-of-type {\n",
       "        vertical-align: middle;\n",
       "    }\n",
       "\n",
       "    .dataframe tbody tr th {\n",
       "        vertical-align: top;\n",
       "    }\n",
       "\n",
       "    .dataframe thead th {\n",
       "        text-align: right;\n",
       "    }\n",
       "</style>\n",
       "<table border=\"1\" class=\"dataframe\">\n",
       "  <thead>\n",
       "    <tr style=\"text-align: right;\">\n",
       "      <th></th>\n",
       "      <th>field</th>\n",
       "      <th>name</th>\n",
       "      <th>university</th>\n",
       "      <th>duration</th>\n",
       "      <th>url</th>\n",
       "      <th>language</th>\n",
       "      <th>city</th>\n",
       "      <th>country</th>\n",
       "      <th>mode</th>\n",
       "      <th>deadline</th>\n",
       "      <th>pace</th>\n",
       "      <th>tution_amount</th>\n",
       "      <th>tution_currency</th>\n",
       "    </tr>\n",
       "  </thead>\n",
       "  <tbody>\n",
       "    <tr>\n",
       "      <th>0</th>\n",
       "      <td>Administration-Studies</td>\n",
       "      <td>M.S. in Aviation Management And Logistics</td>\n",
       "      <td>Kent State University - College of Aeronautics...</td>\n",
       "      <td>2 years</td>\n",
       "      <td>NaN</td>\n",
       "      <td>[\"English\"]</td>\n",
       "      <td>Kent</td>\n",
       "      <td>USA</td>\n",
       "      <td>[\"Online\"]</td>\n",
       "      <td>NaN</td>\n",
       "      <td>[\"Full-time\",\"Part-time\"]</td>\n",
       "      <td>42025.0</td>\n",
       "      <td>USD</td>\n",
       "    </tr>\n",
       "    <tr>\n",
       "      <th>1</th>\n",
       "      <td>Administration-Studies</td>\n",
       "      <td>Master of Science in Operations Management</td>\n",
       "      <td>Manderson Graduate School of Business The Univ...</td>\n",
       "      <td>NaN</td>\n",
       "      <td>NaN</td>\n",
       "      <td>[]</td>\n",
       "      <td>Tuscaloosa</td>\n",
       "      <td>USA</td>\n",
       "      <td>[\"Campus\"]</td>\n",
       "      <td>NaN</td>\n",
       "      <td>[\"Full-time\"]</td>\n",
       "      <td>NaN</td>\n",
       "      <td>NaN</td>\n",
       "    </tr>\n",
       "    <tr>\n",
       "      <th>2</th>\n",
       "      <td>Administration-Studies</td>\n",
       "      <td>MASTER'S DEGREE IN COLLECTIVE LABOR BARGAINING</td>\n",
       "      <td>University of Argentinian Social Studies</td>\n",
       "      <td>NaN</td>\n",
       "      <td>NaN</td>\n",
       "      <td>[\"Spanish (Argentina)\"]</td>\n",
       "      <td>545</td>\n",
       "      <td>Argentina</td>\n",
       "      <td>[\"Campus\"]</td>\n",
       "      <td>NaN</td>\n",
       "      <td>[]</td>\n",
       "      <td>NaN</td>\n",
       "      <td>NaN</td>\n",
       "    </tr>\n",
       "    <tr>\n",
       "      <th>3</th>\n",
       "      <td>Administration-Studies</td>\n",
       "      <td>MS Supply Chain, Logistics and Innovations</td>\n",
       "      <td>EM Normandie Business School</td>\n",
       "      <td>15 months</td>\n",
       "      <td>NaN</td>\n",
       "      <td>[\"French\"]</td>\n",
       "      <td>Le Havre</td>\n",
       "      <td>France</td>\n",
       "      <td>[\"Campus\"]</td>\n",
       "      <td>NaN</td>\n",
       "      <td>[\"Full-time\"]</td>\n",
       "      <td>12500.0</td>\n",
       "      <td>EUR</td>\n",
       "    </tr>\n",
       "    <tr>\n",
       "      <th>4</th>\n",
       "      <td>Administration-Studies</td>\n",
       "      <td>Master of Logistics Management (without thesis)</td>\n",
       "      <td>Izmir University of Economics</td>\n",
       "      <td>2 years</td>\n",
       "      <td>NaN</td>\n",
       "      <td>[\"English\"]</td>\n",
       "      <td>Izmir</td>\n",
       "      <td>Turkey</td>\n",
       "      <td>[\"Campus\"]</td>\n",
       "      <td>NaN</td>\n",
       "      <td>[\"Full-time\"]</td>\n",
       "      <td>8500.0</td>\n",
       "      <td>USD</td>\n",
       "    </tr>\n",
       "  </tbody>\n",
       "</table>\n",
       "</div>"
      ],
      "text/plain": [
       "                    field                                             name  \\\n",
       "0  Administration-Studies        M.S. in Aviation Management And Logistics   \n",
       "1  Administration-Studies       Master of Science in Operations Management   \n",
       "2  Administration-Studies   MASTER'S DEGREE IN COLLECTIVE LABOR BARGAINING   \n",
       "3  Administration-Studies       MS Supply Chain, Logistics and Innovations   \n",
       "4  Administration-Studies  Master of Logistics Management (without thesis)   \n",
       "\n",
       "                                          university   duration  url  \\\n",
       "0  Kent State University - College of Aeronautics...    2 years  NaN   \n",
       "1  Manderson Graduate School of Business The Univ...        NaN  NaN   \n",
       "2           University of Argentinian Social Studies        NaN  NaN   \n",
       "3                       EM Normandie Business School  15 months  NaN   \n",
       "4                      Izmir University of Economics    2 years  NaN   \n",
       "\n",
       "                  language        city    country        mode deadline  \\\n",
       "0              [\"English\"]        Kent        USA  [\"Online\"]      NaN   \n",
       "1                       []  Tuscaloosa        USA  [\"Campus\"]      NaN   \n",
       "2  [\"Spanish (Argentina)\"]         545  Argentina  [\"Campus\"]      NaN   \n",
       "3               [\"French\"]    Le Havre     France  [\"Campus\"]      NaN   \n",
       "4              [\"English\"]       Izmir     Turkey  [\"Campus\"]      NaN   \n",
       "\n",
       "                        pace  tution_amount tution_currency  \n",
       "0  [\"Full-time\",\"Part-time\"]        42025.0             USD  \n",
       "1              [\"Full-time\"]            NaN             NaN  \n",
       "2                         []            NaN             NaN  \n",
       "3              [\"Full-time\"]        12500.0             EUR  \n",
       "4              [\"Full-time\"]         8500.0             USD  "
      ]
     },
     "execution_count": 4,
     "metadata": {},
     "output_type": "execute_result"
    }
   ],
   "source": [
    "masters.head()"
   ]
  },
  {
   "cell_type": "code",
   "execution_count": 5,
   "id": "f6f58e14",
   "metadata": {},
   "outputs": [
    {
     "data": {
      "text/plain": [
       "London         689\n",
       "Madrid         624\n",
       "Barcelona      616\n",
       "Milan          278\n",
       "Moscow         264\n",
       "              ... \n",
       "Ontario          1\n",
       "Marburg          1\n",
       "Sector 2         1\n",
       "Pamukkale        1\n",
       "Degania Bet      1\n",
       "Name: city, Length: 1991, dtype: int64"
      ]
     },
     "execution_count": 5,
     "metadata": {},
     "output_type": "execute_result"
    }
   ],
   "source": [
    "masters[\"city\"].value_counts() ## we have 1991 cities in db"
   ]
  },
  {
   "cell_type": "code",
   "execution_count": 6,
   "id": "cd6d56fa",
   "metadata": {},
   "outputs": [
    {
     "data": {
      "text/plain": [
       "USA               5380\n",
       "United Kingdom    2776\n",
       "Spain             2112\n",
       "France            1048\n",
       "Italy              994\n",
       "                  ... \n",
       "Ghana                1\n",
       "Sierra Leone         1\n",
       "Gambia               1\n",
       "Andorra              1\n",
       "Macau                1\n",
       "Name: country, Length: 111, dtype: int64"
      ]
     },
     "execution_count": 6,
     "metadata": {},
     "output_type": "execute_result"
    }
   ],
   "source": [
    "masters[\"country\"].value_counts() ## we have 111 countries in db"
   ]
  },
  {
   "cell_type": "code",
   "execution_count": 7,
   "id": "5af9c0bc",
   "metadata": {},
   "outputs": [
    {
     "data": {
      "text/plain": [
       "SOAS University of London                                 199\n",
       "Universidad Complutense de Madrid                         171\n",
       "University of Groningen                                   142\n",
       "Lund University                                           133\n",
       "University of Johannesburg                                127\n",
       "                                                         ... \n",
       "Saint Augustine's University School of General Studies      1\n",
       "Olszty\\u0144ska Szko\\u0142a Wy\\u017csza                     1\n",
       "KU Leuven: Faculty of Theology and Religious Studies        1\n",
       "Union University                                            1\n",
       "University of Physical Education in Warsaw                  1\n",
       "Name: university, Length: 4364, dtype: int64"
      ]
     },
     "execution_count": 7,
     "metadata": {},
     "output_type": "execute_result"
    }
   ],
   "source": [
    "masters[\"university\"].value_counts() ## we have 4364 cities in db"
   ]
  },
  {
   "cell_type": "code",
   "execution_count": 8,
   "id": "f9b54127",
   "metadata": {},
   "outputs": [
    {
     "data": {
      "text/plain": [
       "Technology-Studies                   2268\n",
       "Engineering-Studies                  1816\n",
       "Management-Studies                   1807\n",
       "Social-Sciences                      1791\n",
       "Business-Studies                     1729\n",
       "Economic-Studies                     1619\n",
       "Humanities-Studies                   1234\n",
       "Education                            1217\n",
       "Natural-Sciences                     1100\n",
       "Health-Care                          1000\n",
       "Journalism-and-Mass-Communication     794\n",
       "Administration-Studies                725\n",
       "Life-Sciences                         686\n",
       "Marketing-Studies                     663\n",
       "Design-Studies                        560\n",
       "Art-Studies                           540\n",
       "Law-Studies                           535\n",
       "Environmental-Studies                 494\n",
       "Architecture-Studies                  452\n",
       "Sustainability-Studies                427\n",
       "Energy-Studies                        338\n",
       "Performing-Arts                       276\n",
       "Tourism-and-Hospitality               263\n",
       "Sport                                 217\n",
       "Fashion                               152\n",
       "Languages                             152\n",
       "Construction                          117\n",
       "Professional-Studies                  113\n",
       "Food-and-Beverage-Studies              82\n",
       "General-Studies                        77\n",
       "Aviation                               65\n",
       "Self-Improvement                       34\n",
       "Life-Skills                            17\n",
       "Cosmetology-Studies                     7\n",
       "Name: field, dtype: int64"
      ]
     },
     "execution_count": 8,
     "metadata": {},
     "output_type": "execute_result"
    }
   ],
   "source": [
    "masters[\"field\"].value_counts() ## we have 34 fied of studies in db"
   ]
  },
  {
   "cell_type": "code",
   "execution_count": null,
   "id": "4e526803",
   "metadata": {},
   "outputs": [],
   "source": []
  },
  {
   "cell_type": "code",
   "execution_count": null,
   "id": "115a6e40",
   "metadata": {},
   "outputs": [],
   "source": []
  },
  {
   "cell_type": "code",
   "execution_count": null,
   "id": "6597dad6",
   "metadata": {},
   "outputs": [],
   "source": []
  },
  {
   "cell_type": "code",
   "execution_count": null,
   "id": "095164d3",
   "metadata": {},
   "outputs": [],
   "source": []
  }
 ],
 "metadata": {
  "kernelspec": {
   "display_name": "Python 3",
   "language": "python",
   "name": "python3"
  },
  "language_info": {
   "codemirror_mode": {
    "name": "ipython",
    "version": 3
   },
   "file_extension": ".py",
   "mimetype": "text/x-python",
   "name": "python",
   "nbconvert_exporter": "python",
   "pygments_lexer": "ipython3",
   "version": "3.8.8"
  },
  "varInspector": {
   "cols": {
    "lenName": 16,
    "lenType": 16,
    "lenVar": 40
   },
   "kernels_config": {
    "python": {
     "delete_cmd_postfix": "",
     "delete_cmd_prefix": "del ",
     "library": "var_list.py",
     "varRefreshCmd": "print(var_dic_list())"
    },
    "r": {
     "delete_cmd_postfix": ") ",
     "delete_cmd_prefix": "rm(",
     "library": "var_list.r",
     "varRefreshCmd": "cat(var_dic_list()) "
    }
   },
   "types_to_exclude": [
    "module",
    "function",
    "builtin_function_or_method",
    "instance",
    "_Feature"
   ],
   "window_display": false
  }
 },
 "nbformat": 4,
 "nbformat_minor": 5
}
